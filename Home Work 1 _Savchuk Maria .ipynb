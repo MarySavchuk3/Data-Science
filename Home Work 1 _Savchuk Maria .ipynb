{
 "cells": [
  {
   "cell_type": "markdown",
   "metadata": {},
   "source": [
    "# 1.Markdown cells"
   ]
  },
  {
   "cell_type": "markdown",
   "metadata": {},
   "source": [
    "\n",
    "- Hello! Is it Main Academy?\n",
    "- All HTML tabs are supported\n",
    "- Моя сторінка на https://www.linkedin.com/feed/\n",
    "\n"
   ]
  },
  {
   "cell_type": "markdown",
   "metadata": {},
   "source": [
    "# This is Heading1\n",
    "\n",
    "\n",
    "## This is Heading 2\n",
    "\n",
    "\n",
    "\n"
   ]
  },
  {
   "cell_type": "markdown",
   "metadata": {},
   "source": [
    "<div class=\"alert-info\">\n",
    "This is a blue colored text\n",
    "</div>\n",
    "    \n",
    "    \n",
    "    This is where we can bring quote and present them nicely\n",
    "  \n",
    "\n",
    "And this is the pafarphaf about very important. Even math\n",
    "\n",
    "\n",
    "                                                                                                                                         "
   ]
  },
  {
   "cell_type": "markdown",
   "metadata": {},
   "source": [
    "$$y_n =\\sqrt{x_n}$$"
   ]
  },
  {
   "cell_type": "markdown",
   "metadata": {},
   "source": [
    "Or python code example\n",
    "\n",
    "import math\n",
    "\n",
    "def fool ():\n",
    "\n",
    "  *return \"foo\"*"
   ]
  },
  {
   "cell_type": "markdown",
   "metadata": {},
   "source": [
    "Here is the sample mean:\n",
    "\n",
    "$$\\ y = \\frac{1}{n}\\sum {y_i} $$\n",
    "\n",
    "Here is the sample variance:\n",
    "$$\\alpha^2 = \\sum_{i=1}^{n}\\frac{(y_1 - y)^2}{n-1} $$\n",
    "\n",
    "\n",
    "This is the sample standart deviation:\n",
    "$$\\alpha = \\sqrt { \\sum_{i=1}^{n}\\frac{(y_1 - y)^2}{n-1}}$$"
   ]
  }
 ],
 "metadata": {
  "kernelspec": {
   "display_name": "Python 3",
   "language": "python",
   "name": "python3"
  },
  "language_info": {
   "codemirror_mode": {
    "name": "ipython",
    "version": 3
   },
   "file_extension": ".py",
   "mimetype": "text/x-python",
   "name": "python",
   "nbconvert_exporter": "python",
   "pygments_lexer": "ipython3",
   "version": "3.8.5"
  }
 },
 "nbformat": 4,
 "nbformat_minor": 4
}
